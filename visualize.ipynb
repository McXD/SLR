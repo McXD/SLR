{
 "cells": [
  {
   "cell_type": "code",
   "execution_count": 6,
   "metadata": {},
   "outputs": [
    {
     "name": "stdout",
     "output_type": "stream",
     "text": [
      "labels.shape: (259,)\n",
      "features.shape: (259, 30)\n"
     ]
    }
   ],
   "source": [
    "import numpy as np\n",
    "from matplotlib import pyplot as plt\n",
    "\n",
    "# Load data\n",
    "labels = np.load(\"data/bow_labels.npy\")\n",
    "features = np.load(\"data/bow_features.npy\")\n",
    "print(f\"labels.shape: {labels.shape}\")\n",
    "print(f\"features.shape: {features.shape}\")"
   ]
  },
  {
   "cell_type": "code",
   "execution_count": 11,
   "metadata": {},
   "outputs": [
    {
     "data": {
      "text/plain": [
       "0.9999999999999999"
      ]
     },
     "execution_count": 11,
     "metadata": {},
     "output_type": "execute_result"
    }
   ],
   "source": [
    "np.sum(features[0])"
   ]
  },
  {
   "cell_type": "code",
   "execution_count": 7,
   "metadata": {},
   "outputs": [
    {
     "data": {
      "text/plain": [
       "array([ 0, 11,  0,  0, 13, 11, 14,  3, 22,  5,  0,  0,  0,  8,  5, 10,  4,\n",
       "       11,  0, 13,  7,  0,  1, 22,  0,  3, 18, 12,  0,  3,  8, 24,  1, 11,\n",
       "       13,  7, 11,  7, 22, 13,  0,  5,  5,  8,  7,  0,  0, 20,  8, 22, 15,\n",
       "       14,  5,  7,  4,  0,  7,  7,  5,  7, 10, 24,  0,  3, 14, 18,  4,  0,\n",
       "       20, 18,  3, 15,  7,  0, 13,  4,  3,  3, 18, 16,  7, 12, 10, 10, 18,\n",
       "       18,  1, 13,  8,  3,  5,  3,  3, 14, 18,  8, 13,  1,  5, 10, 18,  5,\n",
       "        0, 11,  7,  8,  5,  5, 22,  5,  1,  4, 11, 13,  5,  1, 18,  2, 14,\n",
       "        3, 12, 14, 18, 16,  2, 21, 10,  7,  5,  1, 23, 14, 21,  0,  6,  5,\n",
       "        4, 18, 18,  8, 13,  7,  2, 12,  2,  0,  8, 10,  4, 11, 10, 14,  5,\n",
       "       13, 19,  4,  8, 13,  2, 10, 22,  3,  2,  5, 21, 11, 11,  7, 18,  8,\n",
       "        6, 23,  2,  3,  8,  2, 14, 16,  0,  5, 12,  5,  0,  5,  0,  6, 23,\n",
       "        2, 18, 22,  8,  2,  5,  5, 22, 14,  0,  5, 19,  0, 14,  1,  4, 10,\n",
       "       18,  7,  3,  5,  1, 11,  0,  0,  5,  0,  5,  1, 22,  8,  3,  0, 17,\n",
       "        1,  0,  0,  2,  0,  1,  4,  8,  7,  0,  4, 12, 12, 21, 17,  0,  3,\n",
       "        3,  4, 22,  1, 14,  0,  0,  1, 10, 18,  8,  8,  3,  8,  0,  7,  0,\n",
       "        0,  4,  4,  1])"
      ]
     },
     "execution_count": 7,
     "metadata": {},
     "output_type": "execute_result"
    }
   ],
   "source": [
    "labels"
   ]
  },
  {
   "cell_type": "code",
   "execution_count": 8,
   "metadata": {},
   "outputs": [
    {
     "data": {
      "image/png": "[encoded data removed]",
      "text/plain": [
       "<Figure size 432x288 with 1 Axes>"
      ]
     },
     "metadata": {
      "needs_background": "light"
     },
     "output_type": "display_data"
    }
   ],
   "source": [
    "# Plot histogram of features\n",
    "plt.hist(features.flatten(), bins=50)\n",
    "plt.title(\"Histogram of features\")\n",
    "plt.xlabel(\"Feature value\")\n",
    "plt.ylabel(\"Frequency\")\n",
    "plt.show()"
   ]
  },
  {
   "cell_type": "code",
   "execution_count": 9,
   "metadata": {},
   "outputs": [
    {
     "data": {
      "image/png": "[encoded data removed]",
      "text/plain": [
       "<Figure size 432x288 with 1 Axes>"
      ]
     },
     "metadata": {
      "needs_background": "light"
     },
     "output_type": "display_data"
    }
   ],
   "source": [
    "# Plot bar chart of labels\n",
    "unique_labels, label_counts = np.unique(labels, return_counts=True)\n",
    "plt.bar(unique_labels, label_counts)\n",
    "plt.title(\"Bar chart of labels\")\n",
    "plt.xlabel(\"Label\")\n",
    "plt.ylabel(\"Count\")\n",
    "plt.show()\n"
   ]
  },
  {
   "cell_type": "code",
   "execution_count": null,
   "metadata": {},
   "outputs": [],
   "source": [
    "import joblib\n",
    "clf = joblib.load(\"data/model.pkl\")"
   ]
  }
 ],
 "metadata": {
  "kernelspec": {
   "display_name": "base",
   "language": "python",
   "name": "python3"
  },
  "language_info": {
   "codemirror_mode": {
    "name": "ipython",
    "version": 3
   },
   "file_extension": ".py",
   "mimetype": "text/x-python",
   "name": "python",
   "nbconvert_exporter": "python",
   "pygments_lexer": "ipython3",
   "version": "3.9.12"
  },
  "orig_nbformat": 4
 },
 "nbformat": 4,
 "nbformat_minor": 2
}
